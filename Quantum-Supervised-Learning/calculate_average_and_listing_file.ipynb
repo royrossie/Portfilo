{
 "cells": [
  {
   "cell_type": "code",
   "execution_count": 1,
   "id": "e9a903f7",
   "metadata": {
    "scrolled": true
   },
   "outputs": [
    {
     "name": "stdout",
     "output_type": "stream",
     "text": [
      "['Xception2_1_41vacc.txt', 'Xception1_1_37vacc.txt', 'Xception6_1_116vacc.txt', 'Xception2_1_51vacc.txt', 'Xception6_1_106vacc.txt', 'Xception1_1_27vacc.txt', 'Xception3_1_5vacc.txt', 'Xception6_2_82vacc.txt', 'Xception2_1_129vacc.txt', 'Xception6_2_92vacc.txt', 'Xception3_2_18vacc.txt', 'Xception5_1_107vacc.txt', 'Xception3_1_14vacc.txt', 'Xception5_1_117vacc.txt', 'Xception1_1_128vacc.txt', 'Xception6_1_37vacc.txt', 'Xception5_1_41vacc.txt', 'Xception6_1_27vacc.txt', 'Xception5_1_51vacc.txt', 'Xception1_2_82vacc.txt', 'Xception1_2_92vacc.txt', 'Xception4_2_18vacc.txt', 'Xception3_1_125vacc.txt', 'Xception4_1_14vacc.txt', 'Xception6_2_59vacc.txt', 'Xception3_2_111vacc.txt', 'Xception3_2_101vacc.txt', 'Xception6_2_49vacc.txt', 'Xception4_1_66vacc.txt', 'Xception4_1_76vacc.txt', 'Xception2_2_96vacc.txt', 'Xception2_2_86vacc.txt', 'Xception6_1_55vacc.txt', 'Xception5_1_23vacc.txt', 'Xception6_1_4vacc.txt', 'Xception6_1_45vacc.txt', 'Xception5_1_33vacc.txt', 'Xception1_2_59vacc.txt', 'Xception5_2_123vacc.txt', 'Xception1_2_49vacc.txt', 'Xception3_2_1vacc.txt', 'Xception3_1_66vacc.txt', 'Xception3_1_76vacc.txt', 'Xception6_2_122vacc.txt', 'Xception5_2_96vacc.txt', 'Xception5_2_86vacc.txt', 'Xception2_1_23vacc.txt', 'Xception1_1_55vacc.txt', 'Xception2_1_33vacc.txt', 'Xception1_1_45vacc.txt', 'Xception5_2_72vacc.txt', 'Xception6_2_14vacc.txt', 'Xception5_2_62vacc.txt', 'Xception3_1_82vacc.txt', 'Xception3_1_92vacc.txt', 'Xception6_1_18vacc.txt', 'Xception4_2_37vacc.txt', 'Xception4_1_124vacc.txt', 'Xception4_2_27vacc.txt', 'Xception5_1_128vacc.txt', 'Xception2_2_72vacc.txt', 'Xception1_1_107vacc.txt', 'Xception2_2_62vacc.txt', 'Xception1_1_117vacc.txt', 'Xception1_2_14vacc.txt', 'Xception4_1_82vacc.txt', 'Xception6_1_129vacc.txt', 'Xception4_1_92vacc.txt', 'Xception1_1_18vacc.txt', 'Xception3_2_37vacc.txt', 'Xception2_1_116vacc.txt', 'Xception1_2_5vacc.txt', 'Xception3_2_27vacc.txt', 'Xception2_1_106vacc.txt', 'Xception3_2_55vacc.txt', 'Xception3_2_45vacc.txt', 'Xception2_2_122vacc.txt', 'Xception2_2_10vacc.txt', 'Xception1_2_66vacc.txt', 'Xception1_2_76vacc.txt', 'Xception3_1_59vacc.txt', 'Xception1_1_1vacc.txt', 'Xception3_1_49vacc.txt', 'Xception1_2_123vacc.txt', 'Xception4_2_55vacc.txt', 'Xception4_2_45vacc.txt', 'Xception4_2_4vacc.txt', 'Xception4_2_100vacc.txt', 'Xception4_2_110vacc.txt', 'Xception6_2_66vacc.txt', 'Xception5_2_10vacc.txt', 'Xception6_2_76vacc.txt', 'Xception4_1_59vacc.txt', 'Xception4_1_49vacc.txt', 'Xception3_2_108vacc.txt', 'Xception6_2_40vacc.txt', 'Xception5_2_36vacc.txt', 'Xception6_2_50vacc.txt', 'Xception3_2_118vacc.txt', 'Xception5_2_26vacc.txt', 'Xception2_1_83vacc.txt', 'Xception2_1_93vacc.txt', 'Xception4_2_73vacc.txt', 'Xception4_2_63vacc.txt', 'Xception4_2_126vacc.txt', 'Xception2_2_36vacc.txt', 'Xception1_2_40vacc.txt', 'Xception3_2_8vacc.txt', 'Xception2_2_26vacc.txt', 'Xception1_2_50vacc.txt', 'Xception1_2_115vacc.txt', 'Xception5_1_83vacc.txt', 'Xception1_2_105vacc.txt', 'Xception5_1_93vacc.txt', 'Xception3_2_73vacc.txt', 'Xception3_2_63vacc.txt', 'Xception2_2_104vacc.txt', 'Xception2_2_7vacc.txt', 'Xception2_2_114vacc.txt', 'Xception2_1_58vacc.txt', 'Xception2_1_48vacc.txt', 'Xception3_2_11vacc.txt', 'Xception2_1_130vacc.txt', 'Xception2_1_120vacc.txt', 'Xception6_1_97vacc.txt', 'Xception6_1_87vacc.txt', 'Xception2_2_54vacc.txt', 'Xception1_1_121vacc.txt', 'Xception1_2_22vacc.txt', 'Xception2_1_3vacc.txt', 'Xception2_2_44vacc.txt', 'Xception1_2_32vacc.txt', 'Xception5_1_58vacc.txt', 'Xception5_1_48vacc.txt', 'Xception4_1_112vacc.txt', 'Xception4_2_11vacc.txt', 'Xception4_1_102vacc.txt', 'Xception1_1_97vacc.txt', 'Xception1_1_87vacc.txt', 'Xception6_2_22vacc.txt', 'Xception5_2_54vacc.txt', 'Xception6_2_32vacc.txt', 'Xception6_2_9vacc.txt', 'Xception5_2_44vacc.txt', 'Xception6_2_104vacc.txt', 'Xception6_2_114vacc.txt', 'Xception1_1_73vacc.txt', 'Xception2_1_15vacc.txt', 'Xception1_1_63vacc.txt', 'Xception5_2_115vacc.txt', 'Xception2_2_19vacc.txt', 'Xception5_2_105vacc.txt', 'Xception3_1_40vacc.txt', 'Xception3_1_50vacc.txt', 'Xception1_1_8vacc.txt', 'Xception6_1_73vacc.txt', 'Xception4_2_119vacc.txt', 'Xception4_2_109vacc.txt', 'Xception6_1_63vacc.txt', 'Xception5_1_15vacc.txt', 'Xception3_2_127vacc.txt', 'Xception5_2_19vacc.txt', 'Xception4_1_40vacc.txt', 'Xception5_2_2vacc.txt', 'Xception4_1_50vacc.txt', 'Xception3_1_103vacc.txt', 'Xception4_1_9vacc.txt', 'Xception4_1_22vacc.txt', 'Xception3_1_113vacc.txt', 'Xception4_1_32vacc.txt', 'Xception3_2_97vacc.txt', 'Xception3_2_87vacc.txt', 'Xception6_1_11vacc.txt', 'Xception5_1_67vacc.txt', 'Xception5_1_77vacc.txt', 'Xception5_1_6vacc.txt', 'Xception3_1_22vacc.txt', 'Xception5_1_121vacc.txt', 'Xception3_1_32vacc.txt', 'Xception4_2_97vacc.txt', 'Xception4_2_87vacc.txt', 'Xception2_1_67vacc.txt', 'Xception6_1_130vacc.txt', 'Xception1_1_11vacc.txt', 'Xception2_1_77vacc.txt', 'Xception6_1_120vacc.txt', 'Xception5_1_92vacc.txt', 'Xception1_2_104vacc.txt', 'Xception5_1_82vacc.txt', 'Xception1_2_114vacc.txt', 'Xception1_2_51vacc.txt', 'Xception2_2_27vacc.txt', 'Xception1_2_41vacc.txt', 'Xception3_2_9vacc.txt', 'Xception2_2_37vacc.txt', 'Xception2_2_6vacc.txt', 'Xception2_2_115vacc.txt', 'Xception2_2_105vacc.txt', 'Xception3_2_62vacc.txt', 'Xception3_2_72vacc.txt', 'Xception2_1_92vacc.txt', 'Xception2_1_82vacc.txt', 'Xception5_2_27vacc.txt', 'Xception3_2_119vacc.txt', 'Xception6_2_51vacc.txt', 'Xception5_2_37vacc.txt', 'Xception6_2_41vacc.txt', 'Xception3_2_109vacc.txt', 'Xception4_2_127vacc.txt', 'Xception4_2_62vacc.txt', 'Xception4_2_72vacc.txt', 'Xception4_1_103vacc.txt', 'Xception4_1_113vacc.txt', 'Xception4_2_10vacc.txt', 'Xception5_1_49vacc.txt', 'Xception5_1_59vacc.txt', 'Xception5_2_45vacc.txt', 'Xception6_2_8vacc.txt', 'Xception6_2_33vacc.txt', 'Xception5_2_55vacc.txt', 'Xception6_2_23vacc.txt', 'Xception1_1_86vacc.txt', 'Xception1_1_96vacc.txt', 'Xception2_1_121vacc.txt', 'Xception3_2_10vacc.txt', 'Xception2_1_49vacc.txt', 'Xception2_1_59vacc.txt', 'Xception1_2_33vacc.txt', 'Xception1_1_130vacc.txt', 'Xception2_1_2vacc.txt', 'Xception2_2_45vacc.txt', 'Xception1_2_23vacc.txt', 'Xception1_1_120vacc.txt', 'Xception2_2_55vacc.txt', 'Xception6_1_86vacc.txt', 'Xception6_1_96vacc.txt', 'Xception5_1_14vacc.txt', 'Xception4_2_108vacc.txt', 'Xception6_1_62vacc.txt', 'Xception6_1_72vacc.txt', 'Xception4_2_118vacc.txt', 'Xception4_1_51vacc.txt', 'Xception5_2_3vacc.txt', 'Xception4_1_41vacc.txt', 'Xception5_2_18vacc.txt', 'Xception3_2_126vacc.txt', 'Xception1_1_62vacc.txt', 'Xception2_1_14vacc.txt', 'Xception1_1_72vacc.txt', 'Xception6_2_115vacc.txt', 'Xception6_2_105vacc.txt', 'Xception1_1_9vacc.txt', 'Xception3_1_51vacc.txt', 'Xception3_1_41vacc.txt', 'Xception5_2_104vacc.txt', 'Xception2_2_18vacc.txt', 'Xception5_2_114vacc.txt', 'Xception4_2_86vacc.txt', 'Xception4_2_96vacc.txt', 'Xception5_1_130vacc.txt', 'Xception3_1_33vacc.txt', 'Xception5_1_120vacc.txt', 'Xception3_1_23vacc.txt', 'Xception6_1_121vacc.txt', 'Xception2_1_76vacc.txt', 'Xception1_1_10vacc.txt', 'Xception2_1_66vacc.txt', 'Xception3_2_86vacc.txt', 'Xception3_2_96vacc.txt', 'Xception4_1_33vacc.txt', 'Xception3_1_112vacc.txt', 'Xception4_1_23vacc.txt', 'Xception4_1_8vacc.txt', 'Xception3_1_102vacc.txt', 'Xception5_1_7vacc.txt', 'Xception5_1_76vacc.txt', 'Xception5_1_66vacc.txt', 'Xception6_1_10vacc.txt', 'Xception1_2_93vacc.txt', 'Xception4_2_19vacc.txt', 'Xception1_2_83vacc.txt', 'Xception5_1_50vacc.txt', 'Xception6_1_26vacc.txt', 'Xception5_1_40vacc.txt', 'Xception6_1_36vacc.txt', 'Xception6_2_1vacc.txt', 'Xception4_1_15vacc.txt', 'Xception3_1_124vacc.txt', 'Xception6_2_93vacc.txt', 'Xception3_2_19vacc.txt', 'Xception2_1_128vacc.txt', 'Xception6_2_83vacc.txt', 'Xception6_1_107vacc.txt', 'Xception3_1_4vacc.txt', 'Xception1_1_26vacc.txt', 'Xception2_1_50vacc.txt', 'Xception1_1_36vacc.txt', 'Xception6_1_117vacc.txt', 'Xception2_1_40vacc.txt', 'Xception1_1_129vacc.txt', 'Xception5_1_116vacc.txt', 'Xception3_1_15vacc.txt', 'Xception5_1_106vacc.txt', 'Xception3_1_77vacc.txt', 'Xception3_1_67vacc.txt', 'Xception1_2_48vacc.txt', 'Xception5_2_122vacc.txt', 'Xception1_2_58vacc.txt', 'Xception1_1_44vacc.txt', 'Xception2_1_32vacc.txt', 'Xception1_1_54vacc.txt', 'Xception2_1_22vacc.txt', 'Xception5_2_87vacc.txt', 'Xception5_2_97vacc.txt', 'Xception6_2_123vacc.txt', 'Xception4_1_77vacc.txt', 'Xception4_1_67vacc.txt', 'Xception6_2_48vacc.txt', 'Xception3_2_100vacc.txt', 'Xception3_2_110vacc.txt', 'Xception6_2_58vacc.txt', 'Xception5_1_32vacc.txt', 'Xception6_1_44vacc.txt', 'Xception5_1_22vacc.txt', 'Xception6_1_5vacc.txt', 'Xception6_1_54vacc.txt', 'Xception2_2_87vacc.txt', 'Xception2_2_97vacc.txt', 'Xception1_2_15vacc.txt', 'Xception1_1_116vacc.txt', 'Xception2_2_63vacc.txt', 'Xception1_1_106vacc.txt', 'Xception2_2_73vacc.txt', 'Xception5_1_129vacc.txt', 'Xception2_1_107vacc.txt', 'Xception3_2_26vacc.txt', 'Xception2_1_117vacc.txt', 'Xception1_2_4vacc.txt', 'Xception3_2_36vacc.txt', 'Xception4_1_93vacc.txt', 'Xception1_1_19vacc.txt', 'Xception6_1_128vacc.txt', 'Xception4_1_83vacc.txt', 'Xception5_2_63vacc.txt', 'Xception6_2_15vacc.txt', 'Xception5_2_73vacc.txt', 'Xception4_1_1vacc.txt', 'Xception4_1_125vacc.txt', 'Xception4_2_26vacc.txt', 'Xception4_2_36vacc.txt', 'Xception3_1_93vacc.txt', 'Xception6_1_19vacc.txt', 'Xception3_1_83vacc.txt', 'Xception4_2_111vacc.txt', 'Xception4_2_101vacc.txt', 'Xception4_2_44vacc.txt', 'Xception4_2_5vacc.txt', 'Xception4_2_54vacc.txt', 'Xception4_1_48vacc.txt', 'Xception4_1_58vacc.txt', 'Xception6_2_77vacc.txt', 'Xception5_2_11vacc.txt', 'Xception6_2_67vacc.txt', 'Xception2_2_123vacc.txt', 'Xception3_2_44vacc.txt', 'Xception3_2_54vacc.txt', 'Xception1_2_122vacc.txt', 'Xception3_1_48vacc.txt', 'Xception3_1_58vacc.txt', 'Xception1_2_77vacc.txt', 'Xception1_2_67vacc.txt', 'Xception2_2_11vacc.txt', 'Xception1_1_94vacc.txt', 'Xception1_1_84vacc.txt', 'Xception5_2_57vacc.txt', 'Xception6_2_21vacc.txt', 'Xception5_2_47vacc.txt', 'Xception6_2_31vacc.txt', 'Xception4_2_12vacc.txt', 'Xception1_2_98vacc.txt', 'Xception4_1_111vacc.txt', 'Xception1_2_88vacc.txt', 'Xception4_1_101vacc.txt', 'Xception6_1_94vacc.txt', 'Xception6_1_84vacc.txt', 'Xception1_2_21vacc.txt', 'Xception1_1_122vacc.txt', 'Xception2_2_57vacc.txt', 'Xception1_2_31vacc.txt', 'Xception2_2_47vacc.txt', 'Xception3_2_12vacc.txt', 'Xception6_2_98vacc.txt', 'Xception2_1_123vacc.txt', 'Xception6_2_88vacc.txt', 'Xception3_2_70vacc.txt', 'Xception3_2_60vacc.txt', 'Xception6_2_128vacc.txt', 'Xception2_1_39vacc.txt', 'Xception2_2_107vacc.txt', 'Xception2_2_117vacc.txt', 'Xception2_2_4vacc.txt', 'Xception2_1_29vacc.txt', 'Xception1_2_43vacc.txt', 'Xception2_2_35vacc.txt', 'Xception5_2_129vacc.txt', 'Xception1_2_53vacc.txt', 'Xception2_2_25vacc.txt', 'Xception5_1_80vacc.txt', 'Xception1_2_116vacc.txt', 'Xception5_1_90vacc.txt', 'Xception1_2_106vacc.txt', 'Xception4_2_70vacc.txt', 'Xception4_2_60vacc.txt', 'Xception5_1_39vacc.txt', 'Xception4_2_125vacc.txt', 'Xception5_1_29vacc.txt', 'Xception5_2_35vacc.txt', 'Xception6_2_43vacc.txt', 'Xception5_2_25vacc.txt', 'Xception6_2_53vacc.txt', 'Xception2_1_80vacc.txt', 'Xception2_1_90vacc.txt', 'Xception1_1_12vacc.txt', 'Xception4_1_98vacc.txt', 'Xception2_1_64vacc.txt', 'Xception4_1_88vacc.txt', 'Xception6_1_123vacc.txt', 'Xception2_1_74vacc.txt', 'Xception5_1_122vacc.txt', 'Xception3_1_21vacc.txt', 'Xception3_1_31vacc.txt', 'Xception4_2_94vacc.txt', 'Xception2_2_68vacc.txt', 'Xception4_2_84vacc.txt', 'Xception2_2_78vacc.txt', 'Xception5_1_64vacc.txt', 'Xception6_1_12vacc.txt', 'Xception3_1_98vacc.txt', 'Xception5_1_74vacc.txt', 'Xception3_1_88vacc.txt', 'Xception5_1_5vacc.txt', 'Xception3_1_100vacc.txt', 'Xception4_1_21vacc.txt', 'Xception3_1_110vacc.txt', 'Xception4_1_31vacc.txt', 'Xception5_2_68vacc.txt', 'Xception3_2_94vacc.txt', 'Xception5_2_78vacc.txt', 'Xception3_2_84vacc.txt', 'Xception3_2_124vacc.txt', 'Xception4_1_43vacc.txt', 'Xception4_1_53vacc.txt', 'Xception5_2_1vacc.txt', 'Xception6_1_70vacc.txt', 'Xception5_1_16vacc.txt', 'Xception6_1_60vacc.txt', 'Xception5_2_116vacc.txt', 'Xception5_2_106vacc.txt', 'Xception3_1_43vacc.txt', 'Xception1_2_129vacc.txt', 'Xception3_1_53vacc.txt', 'Xception6_2_107vacc.txt', 'Xception6_2_117vacc.txt', 'Xception1_1_70vacc.txt', 'Xception1_1_60vacc.txt', 'Xception2_2_128vacc.txt', 'Xception2_1_16vacc.txt', 'Xception5_2_95vacc.txt', 'Xception3_2_69vacc.txt', 'Xception6_2_121vacc.txt', 'Xception5_2_85vacc.txt', 'Xception3_2_79vacc.txt', 'Xception1_1_56vacc.txt', 'Xception2_1_20vacc.txt', 'Xception1_1_46vacc.txt', 'Xception2_1_30vacc.txt', 'Xception5_2_130vacc.txt', 'Xception3_2_2vacc.txt', 'Xception5_2_120vacc.txt', 'Xception5_1_99vacc.txt', 'Xception3_1_65vacc.txt', 'Xception5_1_89vacc.txt', 'Xception3_1_75vacc.txt', 'Xception4_2_69vacc.txt', 'Xception2_2_95vacc.txt', 'Xception4_2_79vacc.txt', 'Xception2_2_85vacc.txt', 'Xception6_1_7vacc.txt', 'Xception5_1_20vacc.txt', 'Xception6_1_56vacc.txt', 'Xception5_1_30vacc.txt', 'Xception6_1_46vacc.txt', 'Xception3_2_112vacc.txt', 'Xception3_2_102vacc.txt', 'Xception4_1_65vacc.txt', 'Xception2_1_99vacc.txt', 'Xception4_1_75vacc.txt', 'Xception2_1_89vacc.txt', 'Xception3_1_126vacc.txt', 'Xception4_1_17vacc.txt', 'Xception6_2_3vacc.txt', 'Xception6_2_38vacc.txt', 'Xception6_2_28vacc.txt', 'Xception5_1_42vacc.txt', 'Xception6_1_34vacc.txt', 'Xception5_1_52vacc.txt', 'Xception6_1_24vacc.txt', 'Xception1_2_81vacc.txt', 'Xception4_1_108vacc.txt', 'Xception1_2_91vacc.txt', 'Xception4_1_118vacc.txt', 'Xception5_1_104vacc.txt', 'Xception5_1_114vacc.txt', 'Xception3_1_17vacc.txt', 'Xception1_2_38vacc.txt', 'Xception2_1_9vacc.txt', 'Xception1_2_28vacc.txt', 'Xception6_1_115vacc.txt', 'Xception1_1_34vacc.txt', 'Xception2_1_42vacc.txt', 'Xception1_1_24vacc.txt', 'Xception3_1_6vacc.txt', 'Xception6_1_105vacc.txt', 'Xception2_1_52vacc.txt', 'Xception6_2_81vacc.txt', 'Xception6_2_91vacc.txt', 'Xception5_2_13vacc.txt', 'Xception6_2_65vacc.txt', 'Xception6_2_75vacc.txt', 'Xception5_2_8vacc.txt', 'Xception4_2_56vacc.txt', 'Xception4_2_7vacc.txt', 'Xception4_2_46vacc.txt', 'Xception6_1_69vacc.txt', 'Xception4_2_103vacc.txt', 'Xception4_2_113vacc.txt', 'Xception6_1_79vacc.txt', 'Xception1_2_65vacc.txt', 'Xception2_2_13vacc.txt', 'Xception1_2_75vacc.txt', 'Xception1_1_2vacc.txt', 'Xception1_2_130vacc.txt', 'Xception1_2_120vacc.txt', 'Xception3_2_56vacc.txt', 'Xception3_2_46vacc.txt', 'Xception1_1_69vacc.txt', 'Xception2_2_121vacc.txt', 'Xception1_1_79vacc.txt', 'Xception4_1_81vacc.txt', 'Xception4_1_91vacc.txt', 'Xception1_2_6vacc.txt', 'Xception2_1_115vacc.txt', 'Xception3_2_34vacc.txt', 'Xception2_1_105vacc.txt', 'Xception3_2_24vacc.txt', 'Xception3_1_38vacc.txt', 'Xception3_1_28vacc.txt', 'Xception1_1_104vacc.txt', 'Xception2_2_71vacc.txt', 'Xception1_2_17vacc.txt', 'Xception1_1_114vacc.txt', 'Xception2_2_61vacc.txt', 'Xception3_1_81vacc.txt', 'Xception3_1_91vacc.txt', 'Xception4_2_34vacc.txt', 'Xception4_2_24vacc.txt', 'Xception4_1_127vacc.txt', 'Xception3_1_119vacc.txt', 'Xception4_1_38vacc.txt', 'Xception3_1_109vacc.txt', 'Xception4_1_3vacc.txt', 'Xception4_1_28vacc.txt', 'Xception5_2_71vacc.txt', 'Xception5_2_61vacc.txt', 'Xception6_2_17vacc.txt', 'Xception6_1_47vacc.txt', 'Xception5_1_31vacc.txt', 'Xception6_1_57vacc.txt', 'Xception6_1_6vacc.txt', 'Xception5_1_21vacc.txt', 'Xception2_2_84vacc.txt', 'Xception4_2_78vacc.txt', 'Xception2_2_94vacc.txt', 'Xception4_2_68vacc.txt', 'Xception2_1_88vacc.txt', 'Xception4_1_74vacc.txt', 'Xception2_1_98vacc.txt', 'Xception4_1_64vacc.txt', 'Xception3_2_103vacc.txt', 'Xception3_2_113vacc.txt', 'Xception2_1_31vacc.txt', 'Xception1_1_47vacc.txt', 'Xception2_1_21vacc.txt', 'Xception1_1_57vacc.txt', 'Xception6_2_130vacc.txt', 'Xception3_2_78vacc.txt', 'Xception5_2_84vacc.txt', 'Xception3_2_68vacc.txt', 'Xception6_2_120vacc.txt', 'Xception5_2_94vacc.txt', 'Xception3_1_74vacc.txt', 'Xception5_1_88vacc.txt', 'Xception3_1_64vacc.txt', 'Xception5_1_98vacc.txt', 'Xception5_2_121vacc.txt', 'Xception3_2_3vacc.txt', 'Xception1_2_29vacc.txt', 'Xception2_1_8vacc.txt', 'Xception1_2_39vacc.txt', 'Xception3_1_16vacc.txt', 'Xception5_1_115vacc.txt', 'Xception5_1_105vacc.txt', 'Xception6_2_90vacc.txt', 'Xception6_2_80vacc.txt', 'Xception2_1_53vacc.txt', 'Xception3_1_7vacc.txt', 'Xception1_1_25vacc.txt', 'Xception6_1_104vacc.txt', 'Xception2_1_43vacc.txt', 'Xception6_1_114vacc.txt', 'Xception1_1_35vacc.txt', 'Xception6_2_29vacc.txt', 'Xception6_2_39vacc.txt', 'Xception6_2_2vacc.txt', 'Xception4_1_16vacc.txt', 'Xception3_1_127vacc.txt', 'Xception1_2_90vacc.txt', 'Xception4_1_119vacc.txt', 'Xception1_2_80vacc.txt', 'Xception4_1_109vacc.txt', 'Xception6_1_25vacc.txt', 'Xception5_1_53vacc.txt', 'Xception6_1_35vacc.txt', 'Xception5_1_43vacc.txt', 'Xception1_2_121vacc.txt', 'Xception1_1_3vacc.txt', 'Xception1_2_74vacc.txt', 'Xception2_2_12vacc.txt', 'Xception1_2_64vacc.txt', 'Xception2_2_130vacc.txt', 'Xception1_1_78vacc.txt', 'Xception2_2_120vacc.txt', 'Xception1_1_68vacc.txt', 'Xception3_2_47vacc.txt', 'Xception3_2_57vacc.txt', 'Xception5_2_9vacc.txt', 'Xception6_2_74vacc.txt', 'Xception6_2_64vacc.txt', 'Xception5_2_12vacc.txt', 'Xception4_2_112vacc.txt', 'Xception6_1_78vacc.txt', 'Xception6_1_68vacc.txt', 'Xception4_2_102vacc.txt', 'Xception4_2_6vacc.txt', 'Xception4_2_47vacc.txt', 'Xception4_2_57vacc.txt', 'Xception4_2_25vacc.txt', 'Xception4_1_126vacc.txt', 'Xception4_2_35vacc.txt', 'Xception3_1_90vacc.txt', 'Xception3_1_80vacc.txt', 'Xception6_2_16vacc.txt', 'Xception5_2_60vacc.txt', 'Xception5_2_70vacc.txt', 'Xception4_1_29vacc.txt', 'Xception4_1_2vacc.txt', 'Xception3_1_108vacc.txt', 'Xception4_1_39vacc.txt', 'Xception3_1_118vacc.txt', 'Xception3_2_25vacc.txt', 'Xception2_1_104vacc.txt', 'Xception3_2_35vacc.txt', 'Xception1_2_7vacc.txt', 'Xception2_1_114vacc.txt', 'Xception4_1_90vacc.txt', 'Xception4_1_80vacc.txt', 'Xception2_2_60vacc.txt', 'Xception1_1_115vacc.txt', 'Xception1_2_16vacc.txt', 'Xception2_2_70vacc.txt', 'Xception1_1_105vacc.txt', 'Xception3_1_29vacc.txt', 'Xception3_1_39vacc.txt', 'Xception2_2_46vacc.txt', 'Xception2_1_1vacc.txt', 'Xception1_2_30vacc.txt', 'Xception2_2_56vacc.txt', 'Xception1_1_123vacc.txt', 'Xception1_2_20vacc.txt', 'Xception6_1_85vacc.txt', 'Xception6_1_95vacc.txt', 'Xception6_2_89vacc.txt', 'Xception2_1_122vacc.txt', 'Xception3_2_13vacc.txt', 'Xception6_2_99vacc.txt', 'Xception6_2_30vacc.txt', 'Xception5_2_46vacc.txt', 'Xception6_2_20vacc.txt', 'Xception5_2_56vacc.txt', 'Xception1_1_85vacc.txt', 'Xception1_1_95vacc.txt', 'Xception1_2_89vacc.txt', 'Xception4_1_100vacc.txt', 'Xception4_2_13vacc.txt', 'Xception1_2_99vacc.txt', 'Xception4_1_110vacc.txt', 'Xception5_1_28vacc.txt', 'Xception4_2_124vacc.txt', 'Xception5_1_38vacc.txt', 'Xception4_2_61vacc.txt', 'Xception4_2_71vacc.txt', 'Xception2_1_91vacc.txt', 'Xception2_1_81vacc.txt', 'Xception6_2_52vacc.txt', 'Xception5_2_24vacc.txt', 'Xception6_2_42vacc.txt', 'Xception5_2_34vacc.txt', 'Xception2_2_116vacc.txt', 'Xception2_1_28vacc.txt', 'Xception2_2_5vacc.txt', 'Xception2_1_38vacc.txt', 'Xception2_2_106vacc.txt', 'Xception3_2_61vacc.txt', 'Xception6_2_129vacc.txt', 'Xception3_2_71vacc.txt', 'Xception1_2_107vacc.txt', 'Xception5_1_91vacc.txt', 'Xception1_2_117vacc.txt', 'Xception5_1_81vacc.txt', 'Xception2_2_24vacc.txt', 'Xception1_2_52vacc.txt', 'Xception5_2_128vacc.txt', 'Xception2_2_34vacc.txt', 'Xception1_2_42vacc.txt', 'Xception5_1_4vacc.txt', 'Xception3_1_89vacc.txt', 'Xception5_1_75vacc.txt', 'Xception6_1_13vacc.txt', 'Xception3_1_99vacc.txt', 'Xception5_1_65vacc.txt', 'Xception3_2_85vacc.txt', 'Xception5_2_79vacc.txt', 'Xception3_2_95vacc.txt', 'Xception5_2_69vacc.txt', 'Xception4_1_30vacc.txt', 'Xception3_1_111vacc.txt', 'Xception4_1_20vacc.txt', 'Xception3_1_101vacc.txt', 'Xception2_1_75vacc.txt', 'Xception6_1_122vacc.txt', 'Xception4_1_89vacc.txt', 'Xception2_1_65vacc.txt', 'Xception1_1_13vacc.txt', 'Xception4_1_99vacc.txt', 'Xception2_2_79vacc.txt', 'Xception4_2_85vacc.txt', 'Xception2_2_69vacc.txt', 'Xception4_2_95vacc.txt', 'Xception3_1_30vacc.txt', 'Xception3_1_20vacc.txt', 'Xception5_1_123vacc.txt', 'Xception3_1_52vacc.txt', 'Xception1_2_128vacc.txt', 'Xception3_1_42vacc.txt', 'Xception5_2_107vacc.txt', 'Xception5_2_117vacc.txt', 'Xception2_2_129vacc.txt', 'Xception2_1_17vacc.txt', 'Xception1_1_61vacc.txt', 'Xception1_1_71vacc.txt', 'Xception6_2_116vacc.txt', 'Xception6_2_106vacc.txt', 'Xception4_1_52vacc.txt', 'Xception4_1_42vacc.txt', 'Xception3_2_125vacc.txt', 'Xception6_1_61vacc.txt', 'Xception5_1_17vacc.txt', 'Xception6_1_71vacc.txt', 'Xception3_2_90vacc.txt', 'Xception3_2_80vacc.txt', 'Xception4_1_25vacc.txt', 'Xception3_1_104vacc.txt', 'Xception4_1_35vacc.txt', 'Xception3_1_114vacc.txt', 'Xception4_2_29vacc.txt', 'Xception5_1_1vacc.txt', 'Xception4_2_39vacc.txt', 'Xception6_1_16vacc.txt', 'Xception5_1_60vacc.txt', 'Xception5_1_70vacc.txt', 'Xception4_2_90vacc.txt', 'Xception1_1_119vacc.txt', 'Xception1_1_109vacc.txt', 'Xception4_2_80vacc.txt', 'Xception3_1_25vacc.txt', 'Xception5_1_126vacc.txt', 'Xception3_1_35vacc.txt', 'Xception3_2_29vacc.txt', 'Xception2_1_108vacc.txt', 'Xception3_2_39vacc.txt', 'Xception2_1_118vacc.txt', 'Xception2_1_60vacc.txt', 'Xception1_1_16vacc.txt', 'Xception2_1_70vacc.txt', 'Xception6_1_127vacc.txt', 'Xception1_1_74vacc.txt', 'Xception2_1_12vacc.txt', 'Xception1_1_64vacc.txt', 'Xception6_2_103vacc.txt', 'Xception6_2_113vacc.txt', 'Xception3_1_47vacc.txt', 'Xception3_1_57vacc.txt', 'Xception5_2_112vacc.txt', 'Xception1_2_78vacc.txt', 'Xception5_2_102vacc.txt', 'Xception1_2_68vacc.txt', 'Xception6_1_74vacc.txt', 'Xception6_1_64vacc.txt', 'Xception5_1_12vacc.txt', 'Xception4_1_47vacc.txt', 'Xception5_2_5vacc.txt', 'Xception4_1_57vacc.txt', 'Xception3_2_130vacc.txt', 'Xception6_2_78vacc.txt', 'Xception6_2_68vacc.txt', 'Xception3_2_120vacc.txt', 'Xception3_2_16vacc.txt', 'Xception2_1_127vacc.txt', 'Xception6_1_108vacc.txt', 'Xception1_1_29vacc.txt', 'Xception1_1_39vacc.txt', 'Xception6_1_118vacc.txt', 'Xception2_2_53vacc.txt', 'Xception1_1_126vacc.txt', 'Xception1_2_25vacc.txt', 'Xception2_1_4vacc.txt', 'Xception2_2_43vacc.txt', 'Xception1_2_35vacc.txt', 'Xception6_1_90vacc.txt', 'Xception5_1_119vacc.txt', 'Xception6_1_80vacc.txt', 'Xception5_1_109vacc.txt', 'Xception4_1_115vacc.txt', 'Xception4_2_16vacc.txt', 'Xception4_1_105vacc.txt', 'Xception6_1_29vacc.txt', 'Xception6_1_39vacc.txt', 'Xception6_2_25vacc.txt', 'Xception5_2_53vacc.txt', 'Xception6_2_35vacc.txt', 'Xception5_2_43vacc.txt', 'Xception1_1_90vacc.txt', 'Xception1_1_80vacc.txt', 'Xception2_1_84vacc.txt', 'Xception4_1_78vacc.txt', 'Xception2_1_94vacc.txt', 'Xception4_1_68vacc.txt', 'Xception6_2_47vacc.txt', 'Xception5_2_31vacc.txt', 'Xception6_2_57vacc.txt', 'Xception5_2_21vacc.txt', 'Xception4_2_121vacc.txt', 'Xception2_2_88vacc.txt', 'Xception4_2_74vacc.txt', 'Xception2_2_98vacc.txt', 'Xception4_2_64vacc.txt', 'Xception1_2_112vacc.txt', 'Xception3_1_78vacc.txt', 'Xception5_1_84vacc.txt', 'Xception1_2_102vacc.txt', 'Xception3_1_68vacc.txt', 'Xception5_1_94vacc.txt', 'Xception2_2_31vacc.txt', 'Xception1_2_47vacc.txt', 'Xception2_2_21vacc.txt', 'Xception1_2_57vacc.txt', 'Xception2_2_103vacc.txt', 'Xception2_2_113vacc.txt', 'Xception3_2_74vacc.txt', 'Xception5_2_88vacc.txt', 'Xception3_2_64vacc.txt', 'Xception5_2_98vacc.txt', 'Xception2_2_125vacc.txt', 'Xception3_2_52vacc.txt', 'Xception3_2_42vacc.txt', 'Xception1_1_6vacc.txt', 'Xception1_2_124vacc.txt', 'Xception2_2_17vacc.txt', 'Xception1_2_61vacc.txt', 'Xception1_2_71vacc.txt', 'Xception4_2_107vacc.txt', 'Xception4_2_117vacc.txt', 'Xception4_2_52vacc.txt', 'Xception4_2_42vacc.txt', 'Xception4_2_3vacc.txt', 'Xception6_2_61vacc.txt', 'Xception3_2_129vacc.txt', 'Xception5_2_17vacc.txt', 'Xception6_2_71vacc.txt', 'Xception3_2_89vacc.txt', 'Xception5_2_75vacc.txt', 'Xception3_2_99vacc.txt', 'Xception6_2_13vacc.txt', 'Xception5_2_65vacc.txt', 'Xception4_1_7vacc.txt', 'Xception5_1_8vacc.txt', 'Xception4_2_30vacc.txt', 'Xception4_1_123vacc.txt', 'Xception4_2_20vacc.txt', 'Xception3_1_85vacc.txt', 'Xception5_1_79vacc.txt', 'Xception3_1_95vacc.txt', 'Xception5_1_69vacc.txt', 'Xception2_2_75vacc.txt', 'Xception1_1_100vacc.txt', 'Xception4_2_89vacc.txt', 'Xception2_2_65vacc.txt', 'Xception4_2_99vacc.txt', 'Xception1_1_110vacc.txt', 'Xception1_2_13vacc.txt', 'Xception3_2_30vacc.txt', 'Xception2_1_111vacc.txt', 'Xception1_2_2vacc.txt', 'Xception3_2_20vacc.txt', 'Xception2_1_101vacc.txt', 'Xception2_1_79vacc.txt', 'Xception4_1_85vacc.txt', 'Xception2_1_69vacc.txt', 'Xception4_1_95vacc.txt', 'Xception4_1_61vacc.txt', 'Xception4_1_71vacc.txt', 'Xception3_2_116vacc.txt', 'Xception5_2_28vacc.txt', 'Xception3_2_106vacc.txt', 'Xception5_2_38vacc.txt', 'Xception6_1_52vacc.txt', 'Xception5_1_24vacc.txt', 'Xception6_1_3vacc.txt', 'Xception6_1_42vacc.txt', 'Xception4_2_128vacc.txt', 'Xception5_1_34vacc.txt', 'Xception2_2_91vacc.txt', 'Xception2_2_81vacc.txt', 'Xception3_1_61vacc.txt', 'Xception3_1_71vacc.txt', 'Xception2_2_28vacc.txt', 'Xception2_2_38vacc.txt', 'Xception5_2_124vacc.txt', 'Xception3_2_6vacc.txt', 'Xception2_1_24vacc.txt', 'Xception2_2_9vacc.txt', 'Xception1_1_52vacc.txt', 'Xception2_1_34vacc.txt', 'Xception1_1_42vacc.txt', 'Xception6_2_125vacc.txt', 'Xception5_2_91vacc.txt', 'Xception5_2_81vacc.txt', 'Xception6_2_85vacc.txt', 'Xception6_2_95vacc.txt', 'Xception2_1_46vacc.txt', 'Xception1_1_30vacc.txt', 'Xception6_1_111vacc.txt', 'Xception2_1_56vacc.txt', 'Xception6_1_101vacc.txt', 'Xception3_1_2vacc.txt', 'Xception1_1_20vacc.txt', 'Xception6_1_89vacc.txt', 'Xception5_1_100vacc.txt', 'Xception6_1_99vacc.txt', 'Xception3_1_13vacc.txt', 'Xception5_1_110vacc.txt', 'Xception1_2_85vacc.txt', 'Xception1_2_95vacc.txt', 'Xception6_1_30vacc.txt', 'Xception5_1_46vacc.txt', 'Xception6_1_20vacc.txt', 'Xception5_1_56vacc.txt', 'Xception6_2_7vacc.txt', 'Xception3_1_122vacc.txt', 'Xception1_1_89vacc.txt', 'Xception1_1_99vacc.txt', 'Xception4_1_13vacc.txt', 'Xception4_2_43vacc.txt', 'Xception4_2_2vacc.txt', 'Xception4_2_53vacc.txt', 'Xception4_2_116vacc.txt', 'Xception4_2_106vacc.txt', 'Xception6_2_70vacc.txt', 'Xception5_2_16vacc.txt', 'Xception3_2_128vacc.txt', 'Xception6_2_60vacc.txt', 'Xception3_2_43vacc.txt', 'Xception3_2_53vacc.txt', 'Xception2_2_124vacc.txt', 'Xception1_2_70vacc.txt', 'Xception1_2_60vacc.txt', 'Xception2_2_16vacc.txt', 'Xception1_2_125vacc.txt', 'Xception1_1_7vacc.txt', 'Xception4_2_98vacc.txt', 'Xception1_2_12vacc.txt', 'Xception1_1_111vacc.txt', 'Xception2_2_64vacc.txt', 'Xception1_1_101vacc.txt', 'Xception4_2_88vacc.txt', 'Xception2_2_74vacc.txt', 'Xception4_1_94vacc.txt', 'Xception2_1_68vacc.txt', 'Xception4_1_84vacc.txt', 'Xception2_1_78vacc.txt', 'Xception2_1_100vacc.txt', 'Xception3_2_21vacc.txt', 'Xception2_1_110vacc.txt', 'Xception1_2_3vacc.txt', 'Xception3_2_31vacc.txt', 'Xception4_1_6vacc.txt', 'Xception5_2_64vacc.txt', 'Xception3_2_98vacc.txt', 'Xception6_2_12vacc.txt', 'Xception5_2_74vacc.txt', 'Xception3_2_88vacc.txt', 'Xception5_1_68vacc.txt', 'Xception3_1_94vacc.txt', 'Xception5_1_78vacc.txt', 'Xception3_1_84vacc.txt', 'Xception4_1_122vacc.txt', 'Xception4_2_21vacc.txt', 'Xception4_2_31vacc.txt', 'Xception5_1_9vacc.txt', 'Xception3_2_7vacc.txt', 'Xception5_2_125vacc.txt', 'Xception2_2_39vacc.txt', 'Xception2_2_29vacc.txt', 'Xception3_1_70vacc.txt', 'Xception3_1_60vacc.txt', 'Xception5_2_80vacc.txt', 'Xception5_2_90vacc.txt', 'Xception6_2_124vacc.txt', 'Xception1_1_43vacc.txt', 'Xception2_1_35vacc.txt', 'Xception1_1_53vacc.txt', 'Xception2_2_8vacc.txt', 'Xception2_1_25vacc.txt', 'Xception5_2_39vacc.txt', 'Xception3_2_107vacc.txt', 'Xception5_2_29vacc.txt', 'Xception3_2_117vacc.txt', 'Xception4_1_70vacc.txt', 'Xception4_1_60vacc.txt', 'Xception2_2_80vacc.txt', 'Xception2_2_90vacc.txt', 'Xception5_1_35vacc.txt', 'Xception6_1_43vacc.txt', 'Xception4_2_129vacc.txt', 'Xception5_1_25vacc.txt', 'Xception6_1_2vacc.txt', 'Xception6_1_53vacc.txt', 'Xception5_1_57vacc.txt', 'Xception6_1_21vacc.txt', 'Xception5_1_47vacc.txt', 'Xception6_1_31vacc.txt', 'Xception1_2_94vacc.txt', 'Xception1_2_84vacc.txt', 'Xception1_1_98vacc.txt', 'Xception4_1_12vacc.txt', 'Xception3_1_123vacc.txt', 'Xception1_1_88vacc.txt', 'Xception6_2_6vacc.txt', 'Xception6_1_100vacc.txt', 'Xception1_1_21vacc.txt', 'Xception3_1_3vacc.txt', 'Xception2_1_57vacc.txt', 'Xception1_1_31vacc.txt', 'Xception6_1_110vacc.txt', 'Xception2_1_47vacc.txt', 'Xception6_2_94vacc.txt', 'Xception6_2_84vacc.txt', 'Xception5_1_111vacc.txt', 'Xception6_1_98vacc.txt', 'Xception3_1_12vacc.txt', 'Xception5_1_101vacc.txt', 'Xception6_1_88vacc.txt', 'Xception3_1_34vacc.txt', 'Xception5_1_127vacc.txt', 'Xception3_1_24vacc.txt', 'Xception1_1_108vacc.txt', 'Xception4_2_81vacc.txt', 'Xception4_2_91vacc.txt', 'Xception1_1_118vacc.txt', 'Xception6_1_126vacc.txt', 'Xception2_1_71vacc.txt', 'Xception1_1_17vacc.txt', 'Xception2_1_61vacc.txt', 'Xception2_1_119vacc.txt', 'Xception3_2_38vacc.txt', 'Xception2_1_109vacc.txt', 'Xception3_2_28vacc.txt', 'Xception3_1_115vacc.txt', 'Xception4_1_34vacc.txt', 'Xception3_1_105vacc.txt', 'Xception4_1_24vacc.txt', 'Xception3_2_81vacc.txt', 'Xception3_2_91vacc.txt', 'Xception5_1_71vacc.txt', 'Xception5_1_61vacc.txt', 'Xception6_1_17vacc.txt', 'Xception4_2_38vacc.txt', 'Xception4_2_28vacc.txt', 'Xception5_1_13vacc.txt', 'Xception6_1_65vacc.txt', 'Xception6_1_75vacc.txt', 'Xception3_2_121vacc.txt', 'Xception6_2_69vacc.txt', 'Xception6_2_79vacc.txt', 'Xception4_1_56vacc.txt', 'Xception5_2_4vacc.txt', 'Xception4_1_46vacc.txt', 'Xception6_2_112vacc.txt', 'Xception6_2_102vacc.txt', 'Xception1_1_65vacc.txt', 'Xception2_1_13vacc.txt', 'Xception1_1_75vacc.txt', 'Xception1_2_69vacc.txt', 'Xception5_2_103vacc.txt', 'Xception1_2_79vacc.txt', 'Xception5_2_113vacc.txt', 'Xception3_1_56vacc.txt', 'Xception3_1_46vacc.txt', 'Xception6_1_38vacc.txt', 'Xception6_1_28vacc.txt', 'Xception4_1_104vacc.txt', 'Xception4_1_114vacc.txt', 'Xception4_2_17vacc.txt', 'Xception1_1_81vacc.txt', 'Xception1_1_91vacc.txt', 'Xception5_2_42vacc.txt', 'Xception6_2_34vacc.txt', 'Xception5_2_52vacc.txt', 'Xception6_2_24vacc.txt', 'Xception1_1_38vacc.txt', 'Xception6_1_119vacc.txt', 'Xception6_1_109vacc.txt', 'Xception1_1_28vacc.txt', 'Xception2_1_126vacc.txt', 'Xception3_2_17vacc.txt', 'Xception5_1_108vacc.txt', 'Xception6_1_81vacc.txt', 'Xception5_1_118vacc.txt', 'Xception6_1_91vacc.txt', 'Xception1_2_34vacc.txt', 'Xception2_1_5vacc.txt', 'Xception2_2_42vacc.txt', 'Xception1_2_24vacc.txt', 'Xception1_1_127vacc.txt', 'Xception2_2_52vacc.txt', 'Xception1_2_56vacc.txt', 'Xception2_2_20vacc.txt', 'Xception1_2_46vacc.txt', 'Xception2_2_30vacc.txt', 'Xception5_1_95vacc.txt', 'Xception3_1_69vacc.txt', 'Xception1_2_103vacc.txt', 'Xception5_1_85vacc.txt', 'Xception3_1_79vacc.txt', 'Xception1_2_113vacc.txt', 'Xception5_2_99vacc.txt', 'Xception3_2_65vacc.txt', 'Xception5_2_89vacc.txt', 'Xception3_2_75vacc.txt', 'Xception2_2_1vacc.txt', 'Xception2_2_112vacc.txt', 'Xception2_2_102vacc.txt', 'Xception5_2_20vacc.txt', 'Xception6_2_56vacc.txt', 'Xception5_2_30vacc.txt', 'Xception6_2_46vacc.txt', 'Xception4_1_69vacc.txt', 'Xception2_1_95vacc.txt', 'Xception4_1_79vacc.txt', 'Xception2_1_85vacc.txt', 'Xception4_2_65vacc.txt', 'Xception2_2_99vacc.txt', 'Xception4_2_75vacc.txt', 'Xception2_2_89vacc.txt', 'Xception4_2_130vacc.txt', 'Xception4_2_120vacc.txt', 'Xception1_2_1vacc.txt', 'Xception2_1_112vacc.txt', 'Xception3_2_33vacc.txt', 'Xception2_1_102vacc.txt', 'Xception3_2_23vacc.txt', 'Xception4_1_86vacc.txt', 'Xception4_1_96vacc.txt', 'Xception1_1_103vacc.txt', 'Xception2_2_76vacc.txt', 'Xception1_2_10vacc.txt', 'Xception1_1_113vacc.txt', 'Xception2_2_66vacc.txt', 'Xception4_1_130vacc.txt', 'Xception4_2_33vacc.txt', 'Xception4_2_23vacc.txt', 'Xception4_1_120vacc.txt', 'Xception3_1_86vacc.txt', 'Xception3_1_96vacc.txt', 'Xception5_2_76vacc.txt', 'Xception5_2_66vacc.txt', 'Xception6_2_10vacc.txt', 'Xception4_1_4vacc.txt', 'Xception5_2_14vacc.txt', 'Xception6_2_62vacc.txt', 'Xception6_2_72vacc.txt', 'Xception5_1_18vacc.txt', 'Xception4_2_104vacc.txt', 'Xception4_2_114vacc.txt', 'Xception4_2_51vacc.txt', 'Xception4_2_41vacc.txt', 'Xception1_1_5vacc.txt', 'Xception1_2_127vacc.txt', 'Xception1_2_62vacc.txt', 'Xception2_2_14vacc.txt', 'Xception5_2_108vacc.txt', 'Xception1_2_72vacc.txt', 'Xception5_2_118vacc.txt', 'Xception2_2_126vacc.txt', 'Xception2_1_18vacc.txt', 'Xception3_2_51vacc.txt', 'Xception6_2_119vacc.txt', 'Xception6_2_109vacc.txt', 'Xception3_2_41vacc.txt', 'Xception5_2_49vacc.txt', 'Xception6_2_4vacc.txt', 'Xception5_2_59vacc.txt', 'Xception3_1_121vacc.txt', 'Xception4_1_10vacc.txt', 'Xception1_2_86vacc.txt', 'Xception1_2_96vacc.txt', 'Xception5_1_45vacc.txt', 'Xception6_1_33vacc.txt', 'Xception5_1_55vacc.txt', 'Xception6_1_23vacc.txt', 'Xception2_2_49vacc.txt', 'Xception2_2_59vacc.txt', 'Xception5_1_103vacc.txt', 'Xception5_1_113vacc.txt', 'Xception3_1_10vacc.txt', 'Xception6_2_86vacc.txt', 'Xception6_2_96vacc.txt', 'Xception6_1_112vacc.txt', 'Xception1_1_33vacc.txt', 'Xception2_1_45vacc.txt', 'Xception3_1_1vacc.txt', 'Xception1_1_23vacc.txt', 'Xception6_1_102vacc.txt', 'Xception2_1_55vacc.txt', 'Xception1_1_51vacc.txt', 'Xception2_2_119vacc.txt', 'Xception2_1_27vacc.txt', 'Xception1_1_41vacc.txt', 'Xception2_1_37vacc.txt', 'Xception2_2_109vacc.txt', 'Xception5_2_92vacc.txt', 'Xception6_2_126vacc.txt', 'Xception5_2_82vacc.txt', 'Xception1_2_108vacc.txt', 'Xception3_1_62vacc.txt', 'Xception1_2_118vacc.txt', 'Xception3_1_72vacc.txt', 'Xception3_2_5vacc.txt', 'Xception5_2_127vacc.txt', 'Xception5_1_27vacc.txt', 'Xception6_1_51vacc.txt', 'Xception5_1_37vacc.txt', 'Xception6_1_41vacc.txt', 'Xception2_2_92vacc.txt', 'Xception2_2_82vacc.txt', 'Xception4_1_62vacc.txt', 'Xception4_1_72vacc.txt', 'Xception3_2_115vacc.txt', 'Xception3_2_105vacc.txt', 'Xception4_1_44vacc.txt', 'Xception4_1_54vacc.txt', 'Xception5_2_6vacc.txt', 'Xception3_2_123vacc.txt', 'Xception6_1_77vacc.txt', 'Xception5_1_11vacc.txt', 'Xception6_1_67vacc.txt', 'Xception4_2_9vacc.txt', 'Xception4_2_48vacc.txt', 'Xception4_2_58vacc.txt', 'Xception3_1_44vacc.txt', 'Xception3_1_54vacc.txt', 'Xception5_2_111vacc.txt', 'Xception5_2_101vacc.txt', 'Xception1_1_77vacc.txt', 'Xception1_1_67vacc.txt', 'Xception2_1_11vacc.txt', 'Xception6_2_100vacc.txt', 'Xception3_2_48vacc.txt', 'Xception3_2_58vacc.txt', 'Xception6_2_110vacc.txt', 'Xception1_2_8vacc.txt', 'Xception1_1_15vacc.txt', 'Xception2_1_63vacc.txt', 'Xception6_1_124vacc.txt', 'Xception2_1_73vacc.txt', 'Xception1_2_19vacc.txt', 'Xception4_2_93vacc.txt', 'Xception4_2_83vacc.txt', 'Xception5_1_125vacc.txt', 'Xception3_1_26vacc.txt', 'Xception3_1_36vacc.txt', 'Xception4_1_129vacc.txt', 'Xception5_1_2vacc.txt', 'Xception5_1_63vacc.txt', 'Xception6_1_15vacc.txt', 'Xception5_1_73vacc.txt', 'Xception6_2_19vacc.txt', 'Xception3_2_93vacc.txt', 'Xception3_2_83vacc.txt', 'Xception4_1_26vacc.txt', 'Xception3_1_107vacc.txt', 'Xception4_1_36vacc.txt', 'Xception3_1_117vacc.txt', 'Xception1_1_48vacc.txt', 'Xception2_2_100vacc.txt', 'Xception1_1_58vacc.txt', 'Xception2_2_110vacc.txt', 'Xception2_2_3vacc.txt', 'Xception3_2_77vacc.txt', 'Xception3_2_67vacc.txt', 'Xception5_1_87vacc.txt', 'Xception1_2_111vacc.txt', 'Xception5_1_97vacc.txt', 'Xception1_2_101vacc.txt', 'Xception1_2_44vacc.txt', 'Xception2_2_32vacc.txt', 'Xception1_2_54vacc.txt', 'Xception2_2_22vacc.txt', 'Xception4_2_122vacc.txt', 'Xception6_1_48vacc.txt', 'Xception6_1_9vacc.txt', 'Xception6_1_58vacc.txt', 'Xception4_2_77vacc.txt', 'Xception4_2_67vacc.txt', 'Xception2_1_87vacc.txt', 'Xception2_1_97vacc.txt', 'Xception5_2_32vacc.txt', 'Xception6_2_44vacc.txt', 'Xception5_2_22vacc.txt', 'Xception6_2_54vacc.txt', 'Xception5_2_50vacc.txt', 'Xception6_2_26vacc.txt', 'Xception5_2_40vacc.txt', 'Xception6_2_36vacc.txt', 'Xception4_1_19vacc.txt', 'Xception1_1_93vacc.txt', 'Xception1_1_83vacc.txt', 'Xception3_1_128vacc.txt', 'Xception4_2_15vacc.txt', 'Xception4_1_116vacc.txt', 'Xception4_1_106vacc.txt', 'Xception1_2_26vacc.txt', 'Xception1_1_125vacc.txt', 'Xception2_2_50vacc.txt', 'Xception1_2_36vacc.txt', 'Xception2_2_40vacc.txt', 'Xception2_1_7vacc.txt', 'Xception3_1_19vacc.txt', 'Xception6_1_93vacc.txt', 'Xception6_1_83vacc.txt', 'Xception3_2_15vacc.txt', 'Xception2_1_124vacc.txt', 'Xception3_1_8vacc.txt', 'Xception5_2_100vacc.txt', 'Xception5_2_110vacc.txt', 'Xception3_1_55vacc.txt', 'Xception3_1_45vacc.txt', 'Xception3_2_59vacc.txt', 'Xception6_2_111vacc.txt', 'Xception6_2_101vacc.txt', 'Xception3_2_49vacc.txt', 'Xception2_1_10vacc.txt', 'Xception1_1_66vacc.txt', 'Xception1_1_76vacc.txt', 'Xception3_2_122vacc.txt', 'Xception5_2_7vacc.txt', 'Xception4_1_55vacc.txt', 'Xception4_1_45vacc.txt', 'Xception4_2_59vacc.txt', 'Xception4_2_8vacc.txt', 'Xception4_2_49vacc.txt', 'Xception6_1_66vacc.txt', 'Xception5_1_10vacc.txt', 'Xception6_1_76vacc.txt', 'Xception5_1_72vacc.txt', 'Xception6_1_14vacc.txt', 'Xception5_1_62vacc.txt', 'Xception5_1_3vacc.txt', 'Xception4_1_128vacc.txt', 'Xception3_1_116vacc.txt', 'Xception4_1_37vacc.txt', 'Xception3_1_106vacc.txt', 'Xception4_1_27vacc.txt', 'Xception3_2_82vacc.txt', 'Xception6_2_18vacc.txt', 'Xception3_2_92vacc.txt', 'Xception2_1_72vacc.txt', 'Xception6_1_125vacc.txt', 'Xception2_1_62vacc.txt', 'Xception1_1_14vacc.txt', 'Xception1_2_9vacc.txt', 'Xception3_1_37vacc.txt', 'Xception3_1_27vacc.txt', 'Xception5_1_124vacc.txt', 'Xception4_2_82vacc.txt', 'Xception1_2_18vacc.txt', 'Xception4_2_92vacc.txt', 'Xception4_2_66vacc.txt', 'Xception4_2_76vacc.txt', 'Xception6_1_59vacc.txt', 'Xception6_1_8vacc.txt', 'Xception4_2_123vacc.txt', 'Xception6_1_49vacc.txt', 'Xception6_2_55vacc.txt', 'Xception5_2_23vacc.txt', 'Xception6_2_45vacc.txt', 'Xception5_2_33vacc.txt', 'Xception2_1_96vacc.txt', 'Xception2_1_86vacc.txt', 'Xception3_2_66vacc.txt', 'Xception3_2_76vacc.txt', 'Xception2_2_111vacc.txt', 'Xception2_2_2vacc.txt', 'Xception1_1_59vacc.txt', 'Xception2_2_101vacc.txt', 'Xception1_1_49vacc.txt', 'Xception2_2_23vacc.txt', 'Xception1_2_55vacc.txt', 'Xception2_2_33vacc.txt', 'Xception1_2_45vacc.txt', 'Xception1_2_100vacc.txt', 'Xception5_1_96vacc.txt', 'Xception1_2_110vacc.txt', 'Xception5_1_86vacc.txt', 'Xception6_1_82vacc.txt', 'Xception3_1_18vacc.txt', 'Xception6_1_92vacc.txt', 'Xception2_2_41vacc.txt', 'Xception2_1_6vacc.txt', 'Xception1_2_37vacc.txt', 'Xception2_2_51vacc.txt', 'Xception1_1_124vacc.txt', 'Xception1_2_27vacc.txt', 'Xception3_1_9vacc.txt', 'Xception2_1_125vacc.txt', 'Xception3_2_14vacc.txt', 'Xception1_1_82vacc.txt', 'Xception3_1_129vacc.txt', 'Xception4_1_18vacc.txt', 'Xception1_1_92vacc.txt', 'Xception6_2_37vacc.txt', 'Xception5_2_41vacc.txt', 'Xception6_2_27vacc.txt', 'Xception5_2_51vacc.txt', 'Xception4_1_107vacc.txt', 'Xception4_2_14vacc.txt', 'Xception4_1_117vacc.txt', 'Xception3_1_97vacc.txt', 'Xception3_1_87vacc.txt', 'Xception4_2_22vacc.txt', 'Xception4_1_121vacc.txt', 'Xception4_2_32vacc.txt', 'Xception4_1_5vacc.txt', 'Xception6_2_11vacc.txt', 'Xception5_2_67vacc.txt', 'Xception5_2_77vacc.txt', 'Xception4_1_97vacc.txt', 'Xception4_1_87vacc.txt', 'Xception3_2_22vacc.txt', 'Xception2_1_103vacc.txt', 'Xception3_2_32vacc.txt', 'Xception2_1_113vacc.txt', 'Xception2_2_67vacc.txt', 'Xception1_1_112vacc.txt', 'Xception1_2_11vacc.txt', 'Xception2_2_77vacc.txt', 'Xception1_1_102vacc.txt', 'Xception5_2_119vacc.txt', 'Xception1_2_73vacc.txt', 'Xception5_2_109vacc.txt', 'Xception2_2_15vacc.txt', 'Xception1_2_63vacc.txt', 'Xception1_2_126vacc.txt', 'Xception1_1_4vacc.txt', 'Xception6_2_108vacc.txt', 'Xception3_2_40vacc.txt', 'Xception3_2_50vacc.txt', 'Xception6_2_118vacc.txt', 'Xception2_2_127vacc.txt', 'Xception2_1_19vacc.txt', 'Xception6_2_73vacc.txt', 'Xception6_2_63vacc.txt', 'Xception5_2_15vacc.txt', 'Xception4_2_1vacc.txt', 'Xception4_2_40vacc.txt', 'Xception4_2_50vacc.txt', 'Xception4_2_115vacc.txt', 'Xception4_2_105vacc.txt', 'Xception5_1_19vacc.txt', 'Xception3_1_11vacc.txt', 'Xception5_1_112vacc.txt', 'Xception5_1_102vacc.txt', 'Xception2_2_58vacc.txt', 'Xception2_2_48vacc.txt', 'Xception2_1_54vacc.txt', 'Xception1_1_22vacc.txt', 'Xception6_1_103vacc.txt', 'Xception2_1_44vacc.txt', 'Xception6_1_113vacc.txt', 'Xception1_1_32vacc.txt', 'Xception6_2_97vacc.txt', 'Xception6_2_87vacc.txt', 'Xception3_1_130vacc.txt', 'Xception4_1_11vacc.txt', 'Xception3_1_120vacc.txt', 'Xception5_2_58vacc.txt', 'Xception6_2_5vacc.txt', 'Xception5_2_48vacc.txt', 'Xception6_1_22vacc.txt', 'Xception5_1_54vacc.txt', 'Xception6_1_32vacc.txt', 'Xception5_1_44vacc.txt', 'Xception1_2_97vacc.txt', 'Xception1_2_87vacc.txt', 'Xception2_2_83vacc.txt', 'Xception2_2_93vacc.txt', 'Xception6_1_40vacc.txt', 'Xception5_1_36vacc.txt', 'Xception6_1_50vacc.txt', 'Xception6_1_1vacc.txt', 'Xception5_1_26vacc.txt', 'Xception3_2_104vacc.txt', 'Xception3_2_114vacc.txt', 'Xception4_1_73vacc.txt', 'Xception4_1_63vacc.txt', 'Xception5_2_83vacc.txt', 'Xception6_2_127vacc.txt', 'Xception5_2_93vacc.txt', 'Xception2_1_36vacc.txt', 'Xception2_2_108vacc.txt', 'Xception1_1_40vacc.txt', 'Xception2_2_118vacc.txt', 'Xception2_1_26vacc.txt', 'Xception1_1_50vacc.txt', 'Xception5_2_126vacc.txt', 'Xception3_2_4vacc.txt', 'Xception3_1_73vacc.txt', 'Xception1_2_119vacc.txt', 'Xception3_1_63vacc.txt', 'Xception1_2_109vacc.txt']\n",
      "/Users/hades/Downloads/KIST/QSL/Xception006018\n",
      "/Users/hades/Downloads/KIST/QSL\n"
     ]
    }
   ],
   "source": [
    "import os\n",
    "\n",
    "list_of_files = os.listdir(\"Xception006018\")\n",
    "lines=[]\n",
    "print(list_of_files)\n",
    "\n",
    "%cd Xception006018\n",
    "\n",
    "f = open (\"Xception1_2_1vacc.txt\", 'r')\n",
    "for file in list_of_files:\n",
    "    f = open(file, \"r\")\n",
    "    last_line = f.readlines()[-1]\n",
    "\n",
    "    lines.append(last_line)\n",
    "    f.close()    \n",
    "    \n",
    "%cd ..\n",
    "\n",
    "result = open(\"result_Xception_006_2_raw.txt\", \"w\")\n",
    "for i in range(len(lines)):\n",
    "    result.writelines(lines[i])\n",
    "    \n",
    "result.close()"
   ]
  },
  {
   "cell_type": "code",
   "execution_count": 3,
   "id": "e75d941a",
   "metadata": {},
   "outputs": [
    {
     "name": "stdout",
     "output_type": "stream",
     "text": [
      "C:\\Users\\user\\codes\\Untitled Folder\\EFNB0_Adam_log\n",
      "C:\\Users\\user\\codes\\Untitled Folder\n"
     ]
    }
   ],
   "source": [
    "import numpy as np\n",
    "lines=[]\n",
    "inside_lines = np.zeros(10)\n",
    "%cd EFNB0_Adam_log\n",
    "for i in range (10):\n",
    "    for j in range (130):\n",
    "        filename = \"Xeception\" + str(i+1) + \"_1_\" + str(j+1) + \"vacc.txt\"\n",
    "        file = open (filename, 'r')\n",
    "        last_line = file.readlines()[-1]\n",
    "        inside_lines[i] = last_line\n",
    "        file.close()\n",
    "    \n",
    "    average_line = np.mean(inside_lines)\n",
    "    lines.append(average_line)\n",
    "    \n",
    "%cd ..\n",
    "result = open(\"result_Xeception002_.txt\", \"w\")\n",
    "for i in range(len(lines)):\n",
    "    result.writelines(str(lines[i]))\n",
    "    result.writelines(\"\\n\")\n",
    "result.close()"
   ]
  },
  {
   "cell_type": "code",
   "execution_count": 3,
   "id": "fe1ba403",
   "metadata": {},
   "outputs": [
    {
     "name": "stdout",
     "output_type": "stream",
     "text": [
      "/Users/hades/Downloads/KIST/QSL/Xception006018\n",
      "/Users/hades/Downloads/KIST/QSL\n"
     ]
    }
   ],
   "source": [
    "import numpy as np\n",
    "lines=[]\n",
    "inside_lines = np.zeros(6)\n",
    "%cd Xception006018/\n",
    "for i in range (6):\n",
    "    for j in range (130):\n",
    "        filename = \"Xception\" + str(i+1) + \"_2_\" + str(j+1) + \"vacc.txt\"\n",
    "        file = open (filename, 'r')\n",
    "        last_line = file.readlines()[-1]\n",
    "        inside_lines[i] = last_line\n",
    "        file.close()\n",
    "    \n",
    "    average_line = np.mean(inside_lines)\n",
    "    lines.append(average_line)\n",
    "    \n",
    "%cd ..\n",
    "result = open(\"result_Xception_006_2.txt\", \"w\")\n",
    "for i in range(len(lines)):\n",
    "    result.writelines(str(lines[i]))\n",
    "    result.writelines(\"\\n\")\n",
    "result.close()"
   ]
  },
  {
   "cell_type": "code",
   "execution_count": 37,
   "id": "d92f6ee7",
   "metadata": {},
   "outputs": [
    {
     "name": "stdout",
     "output_type": "stream",
     "text": [
      "[0.884      0.498      0.62475002 0.79100001 0.81550002 0.98650002]\n"
     ]
    }
   ],
   "source": [
    "print (inside_lines)"
   ]
  },
  {
   "cell_type": "code",
   "execution_count": null,
   "id": "25c29361",
   "metadata": {},
   "outputs": [],
   "source": [
    "import os\n",
    "\n",
    "list_of_files = os.listdir(\"Xception002\")\n",
    "lines=[]\n",
    "print(list_of_files)\n",
    "%cd Xeception002\n",
    "f = open (\"Xception1_1_1vacc.txt\", 'r')\n",
    "for file in list_of_files:\n",
    "    f = open(file, \"r\")\n",
    "    last_line = f.readlines()[-1]\n",
    "\n",
    "    lines.append(last_line)\n",
    "    f.close()    \n",
    "    \n",
    "%cd ..\n",
    "result = open(\"result_Xception_002_2raw.txt\", \"w\")\n",
    "for i in range(len(lines)):\n",
    "    result.writelines(lines[i])\n",
    "    \n",
    "result.close()"
   ]
  },
  {
   "cell_type": "code",
   "execution_count": 41,
   "id": "4654a870",
   "metadata": {},
   "outputs": [
    {
     "name": "stdout",
     "output_type": "stream",
     "text": [
      "/Users/hades/Downloads/KIST/QSL/Xception002\n",
      "/Users/hades/Downloads/KIST/QSL\n"
     ]
    }
   ],
   "source": [
    "import numpy as np\n",
    "lines=[]\n",
    "inside_lines = np.zeros(6)\n",
    "%cd Xception002\n",
    "for i in range (6):\n",
    "    for j in range (130):\n",
    "        filename = \"Xception\" + str(i+1) + \"_1_\" + str(j+1) + \"vacc.txt\"\n",
    "        file = open (filename, 'r')\n",
    "        last_line = file.readlines()[-1]\n",
    "        inside_lines[i] = last_line\n",
    "        file.close()\n",
    "    \n",
    "    average_line = np.std(inside_lines)\n",
    "    lines.append(average_line)\n",
    "    \n",
    "%cd ..\n",
    "result = open(\"result_Xception_002_1_std.txt\", \"w\")\n",
    "for i in range(len(lines)):\n",
    "    result.writelines(str(lines[i]))\n",
    "    result.writelines(\"\\n\")\n",
    "result.close()"
   ]
  },
  {
   "cell_type": "code",
   "execution_count": 78,
   "id": "d6ffbc90",
   "metadata": {},
   "outputs": [
    {
     "name": "stdout",
     "output_type": "stream",
     "text": [
      "/Users/hades/Downloads/KIST/QSL/Xception002\n",
      "/Users/hades/Downloads/KIST/QSL\n"
     ]
    }
   ],
   "source": [
    "import numpy as np\n",
    "import numpy\n",
    "\n",
    "lines=[]\n",
    "inside_lines = np.zeros(6)\n",
    "%cd Xception002\n",
    "for i in range (6):\n",
    "    for j in range (130):\n",
    "        filename = \"Xception\" + str(i+1) + \"_1_\" + str(j+1) + \"vacc.txt\"\n",
    "        file = open (filename, 'r')\n",
    "        last_line = file.readlines()[-1]\n",
    "        inside_lines[i] = last_line\n",
    "        file.close()\n",
    "    \n",
    "    std_line = numpy.std(inside_lines)\n",
    "    lines.append(std_line)\n",
    "    \n",
    "%cd ..\n",
    "result = open(\"result_Xception_002_1_std.txt\", \"w\")\n",
    "for i in range(len(lines)):\n",
    "    result.writelines(str(lines[i]))\n",
    "    result.writelines(\"\\n\")\n",
    "result.close()"
   ]
  },
  {
   "cell_type": "code",
   "execution_count": 9,
   "id": "8c94439e",
   "metadata": {},
   "outputs": [
    {
     "name": "stdout",
     "output_type": "stream",
     "text": [
      "/Users/hades/Downloads/KIST/QSL/Xception002\n",
      "[0.95947116 0.69035192 0.97209615 0.70075192 0.97403462 0.74444231\n",
      " 0.97175192 0.77012692 0.97521346 0.78574038 0.97897308 0.80491923]\n",
      "[0.9594711560469408, 0.9720961529474992, 0.9740346156633817, 0.9717519214520087, 0.975213458446356, 0.9789730759767385]\n",
      "[0.6903519231539507, 0.7007519235977759, 0.7444423111585471, 0.7701269211677405, 0.785740381020766, 0.8049192327719469]\n"
     ]
    }
   ],
   "source": [
    "result = np.zeros(12)\n",
    "a = np.zeros(130)\n",
    "b = 0\n",
    "%cd ../Xception002/\n",
    "for i in range (1,7):\n",
    "    for j in range (1,3):\n",
    "        for k in range (1,131):\n",
    "            filename = f'Xception{i}_{j}_{k}vacc.txt'\n",
    "            file = open(filename, 'r')\n",
    "            last_line = file.readlines()[-1] \n",
    "            last_line = float(last_line)\n",
    "            a[k-1]=last_line\n",
    "            file.close()\n",
    "        result[b] = np.mean(a)\n",
    "        b+=1\n",
    "print(result)\n",
    "dogs = []\n",
    "cats = []\n",
    "for i in range(12):\n",
    "    if i % 2 == 0:\n",
    "        dogs.append(result[i])\n",
    "    else:\n",
    "        cats.append(result[i])\n",
    "print(dogs)\n",
    "print(cats)"
   ]
  },
  {
   "cell_type": "code",
   "execution_count": 8,
   "id": "aee127a2",
   "metadata": {},
   "outputs": [
    {
     "name": "stdout",
     "output_type": "stream",
     "text": [
      "/Users/hades/Downloads/KIST/QSL/Xception006018\n",
      "[0.93501539 0.80861731 0.92553077 0.80686923 0.94475192 0.85762308\n",
      " 0.9491     0.89853654 0.95474423 0.89864231 0.96120962 0.911875  ]\n",
      "[0.9350153877184941, 0.9255307701917795, 0.9447519247348491, 0.9491000001247113, 0.9547442289499136, 0.9612096172112685]\n",
      "[0.8086173066726098, 0.8068692301328365, 0.8576230796483847, 0.8985365381607643, 0.8986423066029182, 0.9118749976158143]\n"
     ]
    }
   ],
   "source": [
    "result = np.zeros(12)\n",
    "a = np.zeros(130)\n",
    "b = 0\n",
    "#%cd Xception006018\n",
    "%cd ../Xception006018/\n",
    "for i in range (1,7):\n",
    "    for j in range (1,3):\n",
    "        for k in range (1,131):\n",
    "            filename = f'Xception{i}_{j}_{k}vacc.txt'\n",
    "            file = open(filename, 'r')\n",
    "            last_line = file.readlines()[-1] \n",
    "            last_line = float(last_line)\n",
    "            a[k-1]=last_line\n",
    "            file.close()\n",
    "        result[b] = np.mean(a)\n",
    "        b+=1\n",
    "print(result)\n",
    "dogs = []\n",
    "cats = []\n",
    "for i in range(12):\n",
    "    if i % 2 == 0:\n",
    "        dogs.append(result[i])\n",
    "    else:\n",
    "        cats.append(result[i])\n",
    "print(dogs)\n",
    "print(cats)"
   ]
  },
  {
   "cell_type": "code",
   "execution_count": 10,
   "id": "1ae10bd1",
   "metadata": {},
   "outputs": [
    {
     "name": "stdout",
     "output_type": "stream",
     "text": [
      "/Users/hades/Downloads/KIST/QSL/Xception006018\n",
      "[0.0052972  0.0112928  0.00477009 0.01087326 0.00398494 0.0090425\n",
      " 0.00335723 0.00793553 0.00321088 0.00751089 0.00270111 0.00806384]\n",
      "[0.005297198028255475, 0.004770087046107479, 0.003984936590325819, 0.003357226783227476, 0.003210878148902276, 0.002701107304762719]\n",
      "[0.011292802101123335, 0.010873258599913024, 0.009042504670907026, 0.007935531023806588, 0.007510894075718069, 0.008063842535373573]\n"
     ]
    }
   ],
   "source": [
    "import numpy as np\n",
    "import numpy \n",
    "import os\n",
    "\n",
    "result = np.zeros(12)\n",
    "a = np.zeros(130)\n",
    "b = 0\n",
    "%cd ../Xception006018/\n",
    "for i in range (1,7):\n",
    "    for j in range (1,3):\n",
    "        for k in range (1,131):\n",
    "            filename = f'Xception{i}_{j}_{k}vacc.txt'\n",
    "            file = open(filename, 'r')\n",
    "            last_line = file.readlines()[-1] \n",
    "            last_line = float(last_line)\n",
    "            a[k-1]=last_line\n",
    "            file.close()\n",
    "        result[b] = np.std(a, ddof=1) / np.sqrt(np.size(a))\n",
    "        b+=1\n",
    "print(result)\n",
    "dogs = []\n",
    "cats = []\n",
    "for i in range(12):\n",
    "    if i % 2 == 0:\n",
    "        dogs.append(result[i])\n",
    "    else:\n",
    "        cats.append(result[i])\n",
    "print(dogs)\n",
    "print(cats)\n"
   ]
  },
  {
   "cell_type": "code",
   "execution_count": 7,
   "id": "a28935d4",
   "metadata": {},
   "outputs": [
    {
     "name": "stdout",
     "output_type": "stream",
     "text": [
      "/Users/hades/Downloads/KIST/QSL/xception15000_002_028\n",
      "/Users/hades/Downloads/KIST/QSL\n"
     ]
    }
   ],
   "source": [
    "import numpy as np\n",
    "import numpy\n",
    "\n",
    "lines=[]\n",
    "inside_lines = np.zeros(8)\n",
    "%cd ../xception15000_002_028\n",
    "for i in range (8):\n",
    "    for j in range (130):\n",
    "        filename = \"Xception\" + str(i+1) + \"_1_\" + str(j+1) + \"vacc.txt\"\n",
    "        file = open (filename, 'r')\n",
    "        last_line = file.readlines()[-1]\n",
    "        inside_lines[i] = last_line\n",
    "        file.close()\n",
    "    \n",
    "    std_line = numpy.std(inside_lines)\n",
    "    lines.append(std_line)\n",
    "    \n",
    "%cd ..\n",
    "result = open(\"result_Xception_15000_002_1_std.txt\", \"w\")\n",
    "for i in range(len(lines)):\n",
    "    result.writelines(str(lines[i]))\n",
    "    result.writelines(\"\\n\")\n",
    "result.close()"
   ]
  },
  {
   "cell_type": "code",
   "execution_count": 6,
   "id": "fd6e7ea5",
   "metadata": {},
   "outputs": [
    {
     "name": "stdout",
     "output_type": "stream",
     "text": [
      "/Users/hades/Downloads/KIST/QSL/xception15000_002_028\n",
      "[0.00391335 0.01741223 0.00181869 0.01273937 0.00197398 0.0146783\n",
      " 0.00160791 0.01512596 0.00153287 0.01535172 0.00154999 0.01368427\n",
      " 0.00115732 0.01614334 0.00115912 0.01584136]\n",
      "[0.003913352142922703, 0.0018186918308851058, 0.0019739846322368946, 0.0016079057864382383, 0.0015328679836611853, 0.0015499942229672554, 0.0011573214528403525, 0.0011591219450426914]\n",
      "[0.017412225518276606, 0.012739365811037715, 0.014678299957929674, 0.01512596114453059, 0.015351719596249758, 0.013684266316702305, 0.0161433360497779, 0.015841357867231703]\n"
     ]
    }
   ],
   "source": [
    "import numpy as np\n",
    "import numpy \n",
    "import os\n",
    "\n",
    "result = np.zeros(16)\n",
    "a = np.zeros(130)\n",
    "b = 0\n",
    "%cd ../xception15000_002_028/\n",
    "for i in range (1,9):\n",
    "    for j in range (1,3):\n",
    "        for k in range (1,131):\n",
    "            filename = f'Xception{i}_{j}_{k}vacc.txt'\n",
    "            file = open(filename, 'r')\n",
    "            last_line = file.readlines()[-1] \n",
    "            last_line = float(last_line)\n",
    "            a[k-1]=last_line\n",
    "            file.close()\n",
    "        result[b] = np.std(a, ddof=1) / np.sqrt(np.size(a))\n",
    "        b+=1\n",
    "print(result)\n",
    "dogs = []\n",
    "cats = []\n",
    "for i in range(16):\n",
    "    if i % 2 == 0:\n",
    "        dogs.append(result[i])\n",
    "    else:\n",
    "        cats.append(result[i])\n",
    "print(dogs)\n",
    "print(cats)\n"
   ]
  },
  {
   "cell_type": "code",
   "execution_count": 11,
   "id": "7a69022c",
   "metadata": {},
   "outputs": [
    {
     "name": "stdout",
     "output_type": "stream",
     "text": [
      "/Users/hades/Downloads/KIST/QSL/15000_xception_006_\n",
      "[0.90911923 0.78941346 0.93806154 0.78515    0.94464039 0.86119231\n",
      " 0.95045384 0.87184808 0.95179423 0.90280577 0.95918077 0.89559038\n",
      " 0.97162692 0.92724808 0.97434808 0.96058269]\n",
      "[0.9091192323427933, 0.9380615408603962, 0.9446403879385729, 0.9504538444372324, 0.9517942318549523, 0.959180769095054, 0.9716269218004667, 0.9743480769487528]\n",
      "[0.7894134624646261, 0.7851500020577358, 0.8611923080224257, 0.871848078415944, 0.9028057708190038, 0.8955903841898991, 0.9272480781261737, 0.9605826923480401]\n"
     ]
    }
   ],
   "source": [
    "import numpy as np\n",
    "import numpy \n",
    "import os\n",
    "\n",
    "result = np.zeros(16)\n",
    "a = np.zeros(130)\n",
    "b = 0\n",
    "\n",
    "%cd ../15000_xception_006_/\n",
    "\n",
    "for i in range (1,9):\n",
    "    for j in range (1,3):\n",
    "        for k in range (1,131):\n",
    "            filename = f'Xception{i}_{j}_{k}vacc.txt'\n",
    "            file = open(filename, 'r')\n",
    "            last_line = file.readlines()[-1] \n",
    "            last_line = float(last_line)\n",
    "            a[k-1]=last_line\n",
    "            file.close()\n",
    "        result[b] = np.mean(a)\n",
    "        b+=1\n",
    "print(result)\n",
    "dogs = []\n",
    "cats = []\n",
    "for i in range(16):\n",
    "    if i % 2 == 0:\n",
    "        dogs.append(result[i])\n",
    "    else:\n",
    "        cats.append(result[i])\n",
    "print(dogs)\n",
    "print(cats)"
   ]
  },
  {
   "cell_type": "code",
   "execution_count": 9,
   "id": "02d01dca",
   "metadata": {},
   "outputs": [
    {
     "name": "stdout",
     "output_type": "stream",
     "text": [
      "/Users/hades/Downloads/KIST/QSL/xception15000_002_028\n",
      "/Users/hades/Downloads/KIST/QSL\n"
     ]
    }
   ],
   "source": [
    "import numpy as np\n",
    "lines=[]\n",
    "inside_lines = np.zeros(8)\n",
    "\n",
    "%cd xception15000_002_028/\n",
    "\n",
    "for i in range (8):\n",
    "    for j in range (130):\n",
    "        filename = \"Xception\" + str(i+1) + \"_1_\" + str(j+1) + \"vacc.txt\"\n",
    "        file = open (filename, 'r')\n",
    "        last_line = file.readlines()[-1]\n",
    "        inside_lines[i] = last_line\n",
    "        file.close()\n",
    "    \n",
    "    average_line = np.mean(inside_lines)\n",
    "    lines.append(average_line)\n",
    "    \n",
    "%cd ..\n",
    "result = open(\"result_Xception_15000_002_1_mean.txt\", \"w\")\n",
    "for i in range(len(lines)):\n",
    "    result.writelines(str(lines[i]))\n",
    "    result.writelines(\"\\n\")\n",
    "result.close()"
   ]
  },
  {
   "cell_type": "code",
   "execution_count": 15,
   "id": "d7c615ec",
   "metadata": {},
   "outputs": [
    {
     "name": "stdout",
     "output_type": "stream",
     "text": [
      "/Users/hades/Downloads/KIST/QSL/15000_NNL_006_018\n",
      "[0.95987115 0.76945769 0.90848846 0.76006346 0.93654423 0.78118077\n",
      " 0.94631923 0.833725   0.96951154 0.86298077 0.96740384 0.89495385\n",
      " 0.98768846 0.97519423 0.99504807 0.98062692]\n",
      "[0.9598711545650775, 0.9084884588535015, 0.9365442285170922, 0.9463192284107208, 0.9695115382854755, 0.9674038442281576, 0.9876884607168345, 0.9950480749973885]\n",
      "[0.7694576937418718, 0.7600634620739863, 0.7811807714975797, 0.8337249989692982, 0.8629807685430233, 0.894953847848452, 0.9751942313634432, 0.9806269214703487]\n"
     ]
    }
   ],
   "source": [
    "import numpy as np\n",
    "import numpy \n",
    "import os\n",
    "\n",
    "result = np.zeros(16)\n",
    "a = np.zeros(130)\n",
    "b = 0\n",
    "\n",
    "%cd ../15000_NNL_006_018/\n",
    "\n",
    "for i in range (1,9):\n",
    "    for j in range (1,3):\n",
    "        for k in range (1,131):\n",
    "            filename = f'NNL{i}_{j}_{k}vacc.txt'\n",
    "            file = open(filename, 'r')\n",
    "            last_line = file.readlines()[-1] \n",
    "            last_line = float(last_line)\n",
    "            a[k-1]=last_line\n",
    "            file.close()\n",
    "        result[b] = np.mean(a)\n",
    "        b+=1\n",
    "print(result)\n",
    "dogs = []\n",
    "cats = []\n",
    "for i in range(16):\n",
    "    if i % 2 == 0:\n",
    "        dogs.append(result[i])\n",
    "    else:\n",
    "        cats.append(result[i])\n",
    "print(dogs)\n",
    "print(cats)"
   ]
  },
  {
   "cell_type": "code",
   "execution_count": 3,
   "id": "3638ee2d",
   "metadata": {},
   "outputs": [
    {
     "name": "stdout",
     "output_type": "stream",
     "text": [
      "/Users/hades/Downloads/KIST/QSL/15000_NNL_006_018\n",
      "[0.00297263 0.01032977 0.0073608  0.01265869 0.00458674 0.01481841\n",
      " 0.00501715 0.01537684 0.00373353 0.01450381 0.00409808 0.01248504\n",
      " 0.00170938 0.00638984 0.00063608 0.00702193]\n",
      "[0.0029726282559772834, 0.007360795361545932, 0.004586741439394904, 0.005017150849397312, 0.003733526387490216, 0.004098077711635456, 0.0017093761333861891, 0.0006360755179027569]\n",
      "[0.010329767117798804, 0.012658689956516613, 0.014818414507480665, 0.015376844521158322, 0.014503814164159667, 0.012485042186571739, 0.006389838865161649, 0.0070219337504518805]\n"
     ]
    }
   ],
   "source": [
    "import numpy as np\n",
    "import numpy \n",
    "import os\n",
    "\n",
    "result = np.zeros(16)\n",
    "a = np.zeros(130)\n",
    "b = 0\n",
    "\n",
    "%cd ../15000_NNL_006_018/\n",
    "\n",
    "for i in range (1,9):\n",
    "    for j in range (1,3):\n",
    "        for k in range (1,131):\n",
    "            filename = f'NNL{i}_{j}_{k}vacc.txt'\n",
    "            file = open(filename, 'r')\n",
    "            last_line = file.readlines()[-1] \n",
    "            last_line = float(last_line)\n",
    "            a[k-1]=last_line\n",
    "            file.close()\n",
    "        result[b] = np.std(a, ddof=1) / np.sqrt(np.size(a))\n",
    "        b+=1\n",
    "print(result)\n",
    "dogs = []\n",
    "cats = []\n",
    "for i in range(16):\n",
    "    if i % 2 == 0:\n",
    "        dogs.append(result[i])\n",
    "    else:\n",
    "        cats.append(result[i])\n",
    "print(dogs)\n",
    "print(cats)"
   ]
  },
  {
   "cell_type": "code",
   "execution_count": 18,
   "id": "a2fb5ecd",
   "metadata": {},
   "outputs": [
    {
     "name": "stdout",
     "output_type": "stream",
     "text": [
      "/Users/hades/Downloads/KIST/QSL/Xception002\n",
      "[0.04300735 0.19810954 0.02441869 0.14605964 0.02099063 0.14897319\n",
      " 0.0226427  0.16383956 0.01819962 0.17610155 0.01742214 0.17191024]\n",
      "[0.043007351045552374, 0.024418692534772298, 0.020990629828775954, 0.02264269752107595, 0.01819961705922615, 0.0174221436375102]\n",
      "[0.1981095437079943, 0.14605963938045066, 0.1489731884757118, 0.16383955961439073, 0.1761015466441493, 0.17191023887684234]\n"
     ]
    }
   ],
   "source": [
    "import numpy as np\n",
    "import numpy \n",
    "import os\n",
    "\n",
    "result = np.zeros(12)\n",
    "a = np.zeros(130)\n",
    "b = 0\n",
    "\n",
    "%cd ../Xception002/\n",
    "\n",
    "for i in range (1,7):\n",
    "    for j in range (1,3):\n",
    "        for k in range (1,131):\n",
    "            filename = f'Xception{i}_{j}_{k}vacc.txt'\n",
    "            file = open(filename, 'r')\n",
    "            last_line = file.readlines()[-1] \n",
    "            last_line = float(last_line)\n",
    "            a[k-1]=last_line\n",
    "            file.close()\n",
    "        result[b] = np.std(a)\n",
    "        b+=1\n",
    "print(result)\n",
    "dogs = []\n",
    "cats = []\n",
    "for i in range(12):\n",
    "    if i % 2 == 0:\n",
    "        dogs.append(result[i])\n",
    "    else:\n",
    "        cats.append(result[i])\n",
    "print(dogs)\n",
    "print(cats)"
   ]
  },
  {
   "cell_type": "code",
   "execution_count": 19,
   "id": "612519a0",
   "metadata": {},
   "outputs": [
    {
     "name": "stdout",
     "output_type": "stream",
     "text": [
      "/Users/hades/Downloads/KIST/QSL/Xception002\n",
      "[0.95947116 0.69035192 0.97209615 0.70075192 0.97403462 0.74444231\n",
      " 0.97175192 0.77012692 0.97521346 0.78574038 0.97897308 0.80491923]\n",
      "[0.9594711560469408, 0.9720961529474992, 0.9740346156633817, 0.9717519214520087, 0.975213458446356, 0.9789730759767385]\n",
      "[0.6903519231539507, 0.7007519235977759, 0.7444423111585471, 0.7701269211677405, 0.785740381020766, 0.8049192327719469]\n"
     ]
    }
   ],
   "source": [
    "import numpy as np\n",
    "import numpy \n",
    "import os\n",
    "\n",
    "result = np.zeros(12)\n",
    "a = np.zeros(130)\n",
    "b = 0\n",
    "\n",
    "%cd ../Xception002/\n",
    "\n",
    "for i in range (1,7):\n",
    "    for j in range (1,3):\n",
    "        for k in range (1,131):\n",
    "            filename = f'Xception{i}_{j}_{k}vacc.txt'\n",
    "            file = open(filename, 'r')\n",
    "            last_line = file.readlines()[-1] \n",
    "            last_line = float(last_line)\n",
    "            a[k-1]=last_line\n",
    "            file.close()\n",
    "        result[b] = np.mean(a)\n",
    "        b+=1\n",
    "print(result)\n",
    "dogs = []\n",
    "cats = []\n",
    "for i in range(12):\n",
    "    if i % 2 == 0:\n",
    "        dogs.append(result[i])\n",
    "    else:\n",
    "        cats.append(result[i])\n",
    "print(dogs)\n",
    "print(cats)"
   ]
  },
  {
   "cell_type": "code",
   "execution_count": 2,
   "id": "0788f6d9",
   "metadata": {},
   "outputs": [
    {
     "name": "stdout",
     "output_type": "stream",
     "text": [
      "/Users/hades/Downloads/KIST/QSL/Xception002\n",
      "[0.00378659 0.01744257 0.00214995 0.01285983 0.00184812 0.01311636\n",
      " 0.00199358 0.01442527 0.00160239 0.01550488 0.00153393 0.01513585]\n",
      "[0.0037865861206720854, 0.0021499459973527016, 0.0018481219057091462, 0.0019935783554088276, 0.001602386933457495, 0.0015339342155781055]\n",
      "[0.01744257273094594, 0.012859834187011157, 0.013116357881165846, 0.01442526887544814, 0.015504876634818535, 0.015135852562577034]\n"
     ]
    }
   ],
   "source": [
    "import numpy as np\n",
    "import numpy \n",
    "import os\n",
    "\n",
    "result = np.zeros(12)\n",
    "a = np.zeros(130)\n",
    "b = 0\n",
    "\n",
    "%cd ../QSL/Xception002/\n",
    "\n",
    "for i in range (1,7):\n",
    "    for j in range (1,3):\n",
    "        for k in range (1,131):\n",
    "            filename = f'Xception{i}_{j}_{k}vacc.txt'\n",
    "            file = open(filename, 'r')\n",
    "            last_line = file.readlines()[-1] \n",
    "            last_line = float(last_line)\n",
    "            a[k-1]=last_line\n",
    "            file.close()\n",
    "        result[b] = np.std(a, ddof=1) / np.sqrt(np.size(a))\n",
    "        b+=1\n",
    "print(result)\n",
    "dogs = []\n",
    "cats = []\n",
    "for i in range(12):\n",
    "    if i % 2 == 0:\n",
    "        dogs.append(result[i])\n",
    "    else:\n",
    "        cats.append(result[i])\n",
    "print(dogs)\n",
    "print(cats)"
   ]
  },
  {
   "cell_type": "code",
   "execution_count": null,
   "id": "cfeb4fac",
   "metadata": {},
   "outputs": [],
   "source": [
    "import os\n",
    "\n",
    "%cd Xception006018\n",
    "\n",
    "for i in range (1,6):\n",
    "    for j in range (1,130):\n",
    "        filename = f\"Xception{i}_2_{j}vacc.txt\"\n",
    "        file = open(filename, 'r')\n",
    "        last_line = file.readlines()[-1]\n",
    "        last_line = float(last_line)\n",
    "        if last_line > 0.99:\n",
    "            print(f\"This file is: Xception{i}_2_{j}vacc.txt\")\n",
    "            print(last_line)\n",
    "            print()"
   ]
  },
  {
   "cell_type": "code",
   "execution_count": null,
   "id": "a4fc4864",
   "metadata": {},
   "outputs": [],
   "source": [
    "import os\n",
    "\n",
    "%cd 15000Xception006018\n",
    "\n",
    "for i in range (1,8):\n",
    "    for j in range (1,130):\n",
    "        filename = f\"Xception{i}_2_{j}vacc.txt\"\n",
    "        file = open(filename, 'r')\n",
    "        last_line = file.readlines()[-1]\n",
    "        last_line = float(last_line)\n",
    "        if last_line > 0.99:\n",
    "            print(f\"This file is: Xception{i}_2_{j}vacc.txt\")\n",
    "            print(last_line)\n",
    "            print()\n",
    "            \n",
    "%cd .."
   ]
  }
 ],
 "metadata": {
  "kernelspec": {
   "display_name": "Python 3 (ipykernel)",
   "language": "python",
   "name": "python3"
  },
  "language_info": {
   "codemirror_mode": {
    "name": "ipython",
    "version": 3
   },
   "file_extension": ".py",
   "mimetype": "text/x-python",
   "name": "python",
   "nbconvert_exporter": "python",
   "pygments_lexer": "ipython3",
   "version": "3.9.10"
  }
 },
 "nbformat": 4,
 "nbformat_minor": 5
}
